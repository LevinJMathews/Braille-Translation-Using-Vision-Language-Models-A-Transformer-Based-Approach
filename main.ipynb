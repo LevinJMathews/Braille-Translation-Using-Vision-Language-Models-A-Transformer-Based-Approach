{
 "cells": [
  {
   "cell_type": "code",
   "execution_count": 1,
   "metadata": {},
   "outputs": [
    {
     "name": "stderr",
     "output_type": "stream",
     "text": [
      "/home/zeenx1popos/Documents/codes/4-2/.venv/lib/python3.13/site-packages/tqdm/auto.py:21: TqdmWarning: IProgress not found. Please update jupyter and ipywidgets. See https://ipywidgets.readthedocs.io/en/stable/user_install.html\n",
      "  from .autonotebook import tqdm as notebook_tqdm\n"
     ]
    }
   ],
   "source": [
    "import os\n",
    "import torch\n",
    "import torch.nn as nn\n",
    "from torch.utils.data import Dataset, DataLoader\n",
    "from torchvision import transforms, models\n",
    "from transformers import GPT2Tokenizer, GPT2LMHeadModel\n",
    "from PIL import Image"
   ]
  },
  {
   "cell_type": "code",
   "execution_count": 8,
   "metadata": {},
   "outputs": [],
   "source": [
    "class ImageTextDataset(Dataset):\n",
    "    def __init__(self, image_dir, text_file, transform=None):\n",
    "        \"\"\"\n",
    "        Args:\n",
    "            image_dir (str): Directory with all the images.\n",
    "            text_file (str): Path to the text file with image names and corresponding captions.\n",
    "            transform (callable, optional): Optional transform to be applied on a sample.\n",
    "        \"\"\"\n",
    "        self.image_dir = image_dir\n",
    "        self.transform = transform\n",
    "        self.image_caption_pairs = self._load_image_caption_pairs(text_file)\n",
    "        self.tokenizer = GPT2Tokenizer.from_pretrained('gpt2')\n",
    "\n",
    "    def _load_image_caption_pairs(self, text_file):\n",
    "        pairs = []\n",
    "        with open(text_file, 'r') as file:\n",
    "            for line in file:\n",
    "                try:\n",
    "                    image_name, caption = line.strip().split('\\t')\n",
    "                    pairs.append((image_name, caption))\n",
    "                except:\n",
    "                    image_name = line.strip().split('\\t')[0]\n",
    "                    pairs.append((image_name, ''))\n",
    "        return pairs\n",
    "\n",
    "    def __len__(self):\n",
    "        return len(self.image_caption_pairs)\n",
    "\n",
    "    def __getitem__(self, idx):\n",
    "        image_name, caption = self.image_caption_pairs[idx]\n",
    "        image_path = os.path.join(self.image_dir, image_name)\n",
    "        image = Image.open(image_path).convert('RGB')\n",
    "        if self.transform:\n",
    "            image = self.transform(image)\n",
    "        caption_ids = self.tokenizer.encode(caption, add_special_tokens=True)\n",
    "        return image, torch.tensor(caption_ids)\n"
   ]
  },
  {
   "cell_type": "code",
   "execution_count": 9,
   "metadata": {},
   "outputs": [],
   "source": [
    "transform = transforms.Compose([\n",
    "    transforms.Resize((512, 512)),\n",
    "    transforms.ToTensor(),\n",
    "    transforms.Normalize(mean=[0.485, 0.456, 0.406], std=[0.229, 0.224, 0.225])\n",
    "])\n",
    "\n",
    "image_dir = './data/img'\n",
    "text_file = './data/annotations.txt'\n",
    "dataset = ImageTextDataset(image_dir=image_dir, text_file=text_file, transform=transform)\n",
    "dataloader = DataLoader(dataset, batch_size=4, shuffle=True)\n"
   ]
  },
  {
   "cell_type": "code",
   "execution_count": 10,
   "metadata": {},
   "outputs": [],
   "source": [
    "class ImageCaptioningModel(nn.Module):\n",
    "    def __init__(self, swin_model, gpt2_model):\n",
    "        super(ImageCaptioningModel, self).__init__()\n",
    "        self.swin = swin_model\n",
    "        self.gpt2 = gpt2_model\n",
    "\n",
    "    def forward(self, images, captions):\n",
    "        # Extract features from images\n",
    "        image_features = self.swin(images).last_hidden_state.mean(dim=1)\n",
    "        # Generate text from image features\n",
    "        outputs = self.gpt2(input_ids=captions, labels=captions)\n",
    "        return outputs.loss, outputs.logits\n"
   ]
  },
  {
   "cell_type": "code",
   "execution_count": 11,
   "metadata": {},
   "outputs": [
    {
     "ename": "AttributeError",
     "evalue": "module 'torchvision.models' has no attribute 'swin_tiny_patch4_window7_224'",
     "output_type": "error",
     "traceback": [
      "\u001b[31m---------------------------------------------------------------------------\u001b[39m",
      "\u001b[31mAttributeError\u001b[39m                            Traceback (most recent call last)",
      "\u001b[36mCell\u001b[39m\u001b[36m \u001b[39m\u001b[32mIn[11]\u001b[39m\u001b[32m, line 1\u001b[39m\n\u001b[32m----> \u001b[39m\u001b[32m1\u001b[39m swin_model = \u001b[43mmodels\u001b[49m\u001b[43m.\u001b[49m\u001b[43mswin_tiny_patch4_window7_224\u001b[49m(pretrained=\u001b[38;5;28;01mTrue\u001b[39;00m)\n\u001b[32m      2\u001b[39m gpt2_model = GPT2LMHeadModel.from_pretrained(\u001b[33m'\u001b[39m\u001b[33mgpt2\u001b[39m\u001b[33m'\u001b[39m)\n\u001b[32m      3\u001b[39m model = ImageCaptioningModel(swin_model, gpt2_model)\n",
      "\u001b[31mAttributeError\u001b[39m: module 'torchvision.models' has no attribute 'swin_tiny_patch4_window7_224'"
     ]
    }
   ],
   "source": [
    "swin_model = models.swin_tiny_patch4_window7_224(pretrained=True)\n",
    "gpt2_model = GPT2LMHeadModel.from_pretrained('gpt2')\n",
    "model = ImageCaptioningModel(swin_model, gpt2_model)\n"
   ]
  },
  {
   "cell_type": "code",
   "execution_count": null,
   "metadata": {},
   "outputs": [],
   "source": [
    "device = torch.device('cuda' if torch.cuda.is_available() else 'cpu')\n",
    "model.to(device)\n",
    "optimizer = torch.optim.Adam(model.parameters(), lr=1e-5)\n",
    "criterion = nn.CrossEntropyLoss()\n"
   ]
  },
  {
   "cell_type": "code",
   "execution_count": null,
   "metadata": {},
   "outputs": [],
   "source": [
    "num_epochs = 10\n",
    "for epoch in range(num_epochs):\n",
    "    model.train()\n",
    "    total_loss = 0\n",
    "    for images, captions in dataloader:\n",
    "        images, captions = images.to(device), captions.to(device)\n",
    "        optimizer.zero_grad()\n",
    "        loss, logits = model(images, captions)\n",
    "        loss.backward()\n",
    "        optimizer.step()\n",
    "        total_loss += loss.item()\n",
    "    avg_loss = total_loss / len(dataloader)\n",
    "    print(f'Epoch [{epoch+1}/{num_epochs}], Loss: {avg_loss:.4f}')\n"
   ]
  }
 ],
 "metadata": {
  "kernelspec": {
   "display_name": ".venv",
   "language": "python",
   "name": "python3"
  },
  "language_info": {
   "codemirror_mode": {
    "name": "ipython",
    "version": 3
   },
   "file_extension": ".py",
   "mimetype": "text/x-python",
   "name": "python",
   "nbconvert_exporter": "python",
   "pygments_lexer": "ipython3",
   "version": "3.13.2"
  }
 },
 "nbformat": 4,
 "nbformat_minor": 2
}
